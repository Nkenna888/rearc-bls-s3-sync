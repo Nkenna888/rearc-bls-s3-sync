{
 "cells": [
  {
   "cell_type": "code",
   "execution_count": 5,
   "id": "e87c4a83-b660-4ea6-8359-49e175540c85",
   "metadata": {},
   "outputs": [
    {
     "name": "stdout",
     "output_type": "stream",
     "text": [
      "✅ pr.data.0.Current downloaded successfully with headers\n"
     ]
    }
   ],
   "source": [
    "import requests\n",
    "\n",
    "# BLS blocks requests without a proper User-Agent\n",
    "headers = {\n",
    "    \"User-Agent\": \"YourName (nahomkenna14@outlook.com)\"\n",
    "}\n",
    "\n",
    "url_bls = \"https://download.bls.gov/pub/time.series/pr/pr.data.0.Current\"\n",
    "bls_response = requests.get(url_bls, headers=headers)\n",
    "\n",
    "with open(\"pr.data.0.Current\", \"wb\") as f:\n",
    "    f.write(bls_response.content)\n",
    "\n",
    "print(\"✅ pr.data.0.Current downloaded successfully with headers\")\n"
   ]
  },
  {
   "cell_type": "code",
   "execution_count": 6,
   "id": "e659aec5-7c83-4175-bb3b-8262cdd9b41f",
   "metadata": {},
   "outputs": [
    {
     "data": {
      "text/html": [
       "<div>\n",
       "<style scoped>\n",
       "    .dataframe tbody tr th:only-of-type {\n",
       "        vertical-align: middle;\n",
       "    }\n",
       "\n",
       "    .dataframe tbody tr th {\n",
       "        vertical-align: top;\n",
       "    }\n",
       "\n",
       "    .dataframe thead th {\n",
       "        text-align: right;\n",
       "    }\n",
       "</style>\n",
       "<table border=\"1\" class=\"dataframe\">\n",
       "  <thead>\n",
       "    <tr style=\"text-align: right;\">\n",
       "      <th></th>\n",
       "      <th>series_id</th>\n",
       "      <th>year</th>\n",
       "      <th>period</th>\n",
       "      <th>value</th>\n",
       "      <th>footnote_codes</th>\n",
       "    </tr>\n",
       "  </thead>\n",
       "  <tbody>\n",
       "    <tr>\n",
       "      <th>0</th>\n",
       "      <td>PRS30006011</td>\n",
       "      <td>1995</td>\n",
       "      <td>Q01</td>\n",
       "      <td>2.6</td>\n",
       "      <td>NaN</td>\n",
       "    </tr>\n",
       "    <tr>\n",
       "      <th>1</th>\n",
       "      <td>PRS30006011</td>\n",
       "      <td>1995</td>\n",
       "      <td>Q02</td>\n",
       "      <td>2.1</td>\n",
       "      <td>NaN</td>\n",
       "    </tr>\n",
       "    <tr>\n",
       "      <th>2</th>\n",
       "      <td>PRS30006011</td>\n",
       "      <td>1995</td>\n",
       "      <td>Q03</td>\n",
       "      <td>0.9</td>\n",
       "      <td>NaN</td>\n",
       "    </tr>\n",
       "    <tr>\n",
       "      <th>3</th>\n",
       "      <td>PRS30006011</td>\n",
       "      <td>1995</td>\n",
       "      <td>Q04</td>\n",
       "      <td>0.1</td>\n",
       "      <td>NaN</td>\n",
       "    </tr>\n",
       "    <tr>\n",
       "      <th>4</th>\n",
       "      <td>PRS30006011</td>\n",
       "      <td>1995</td>\n",
       "      <td>Q05</td>\n",
       "      <td>1.4</td>\n",
       "      <td>NaN</td>\n",
       "    </tr>\n",
       "  </tbody>\n",
       "</table>\n",
       "</div>"
      ],
      "text/plain": [
       "           series_id  year period  value footnote_codes\n",
       "0  PRS30006011        1995    Q01    2.6            NaN\n",
       "1  PRS30006011        1995    Q02    2.1            NaN\n",
       "2  PRS30006011        1995    Q03    0.9            NaN\n",
       "3  PRS30006011        1995    Q04    0.1            NaN\n",
       "4  PRS30006011        1995    Q05    1.4            NaN"
      ]
     },
     "execution_count": 6,
     "metadata": {},
     "output_type": "execute_result"
    }
   ],
   "source": [
    "import pandas as pd\n",
    "import json\n",
    "\n",
    "# Load time series from Part 1\n",
    "df_timeseries = pd.read_csv(\"pr.data.0.Current\", sep=\"\\t\")\n",
    "df_timeseries.columns = df_timeseries.columns.str.strip()\n",
    "df_timeseries.head()\n"
   ]
  },
  {
   "cell_type": "code",
   "execution_count": 7,
   "id": "34117449-023e-4b60-be6d-23b10a9456d3",
   "metadata": {},
   "outputs": [
    {
     "name": "stdout",
     "output_type": "stream",
     "text": [
      "✅ population.json downloaded\n"
     ]
    }
   ],
   "source": [
    "# Download your previously uploaded JSON from S3\n",
    "url_json = \"https://rearc-bls-nahom.s3.amazonaws.com/datausa/population.json\"\n",
    "json_response = requests.get(url_json)\n",
    "\n",
    "with open(\"population.json\", \"wb\") as f:\n",
    "    f.write(json_response.content)\n",
    "\n",
    "print(\"✅ population.json downloaded\")\n"
   ]
  },
  {
   "cell_type": "code",
   "execution_count": 8,
   "id": "2c8584cb-9537-42a1-b983-53f6750baedf",
   "metadata": {},
   "outputs": [
    {
     "data": {
      "text/html": [
       "<div>\n",
       "<style scoped>\n",
       "    .dataframe tbody tr th:only-of-type {\n",
       "        vertical-align: middle;\n",
       "    }\n",
       "\n",
       "    .dataframe tbody tr th {\n",
       "        vertical-align: top;\n",
       "    }\n",
       "\n",
       "    .dataframe thead th {\n",
       "        text-align: right;\n",
       "    }\n",
       "</style>\n",
       "<table border=\"1\" class=\"dataframe\">\n",
       "  <thead>\n",
       "    <tr style=\"text-align: right;\">\n",
       "      <th></th>\n",
       "      <th>ID Nation</th>\n",
       "      <th>Nation</th>\n",
       "      <th>ID Year</th>\n",
       "      <th>Year</th>\n",
       "      <th>Population</th>\n",
       "      <th>Slug Nation</th>\n",
       "    </tr>\n",
       "  </thead>\n",
       "  <tbody>\n",
       "    <tr>\n",
       "      <th>0</th>\n",
       "      <td>01000US</td>\n",
       "      <td>United States</td>\n",
       "      <td>2023</td>\n",
       "      <td>2023</td>\n",
       "      <td>332387540</td>\n",
       "      <td>united-states</td>\n",
       "    </tr>\n",
       "    <tr>\n",
       "      <th>1</th>\n",
       "      <td>01000US</td>\n",
       "      <td>United States</td>\n",
       "      <td>2022</td>\n",
       "      <td>2022</td>\n",
       "      <td>331097593</td>\n",
       "      <td>united-states</td>\n",
       "    </tr>\n",
       "    <tr>\n",
       "      <th>2</th>\n",
       "      <td>01000US</td>\n",
       "      <td>United States</td>\n",
       "      <td>2021</td>\n",
       "      <td>2021</td>\n",
       "      <td>329725481</td>\n",
       "      <td>united-states</td>\n",
       "    </tr>\n",
       "    <tr>\n",
       "      <th>3</th>\n",
       "      <td>01000US</td>\n",
       "      <td>United States</td>\n",
       "      <td>2020</td>\n",
       "      <td>2020</td>\n",
       "      <td>326569308</td>\n",
       "      <td>united-states</td>\n",
       "    </tr>\n",
       "    <tr>\n",
       "      <th>4</th>\n",
       "      <td>01000US</td>\n",
       "      <td>United States</td>\n",
       "      <td>2019</td>\n",
       "      <td>2019</td>\n",
       "      <td>324697795</td>\n",
       "      <td>united-states</td>\n",
       "    </tr>\n",
       "  </tbody>\n",
       "</table>\n",
       "</div>"
      ],
      "text/plain": [
       "  ID Nation         Nation  ID Year  Year  Population    Slug Nation\n",
       "0   01000US  United States     2023  2023   332387540  united-states\n",
       "1   01000US  United States     2022  2022   331097593  united-states\n",
       "2   01000US  United States     2021  2021   329725481  united-states\n",
       "3   01000US  United States     2020  2020   326569308  united-states\n",
       "4   01000US  United States     2019  2019   324697795  united-states"
      ]
     },
     "execution_count": 8,
     "metadata": {},
     "output_type": "execute_result"
    }
   ],
   "source": [
    "# Load population.json from Part 2\n",
    "with open(\"population.json\") as f:\n",
    "    data = json.load(f)\n",
    "\n",
    "# Normalize nested JSON structure into flat table\n",
    "df_population = pd.json_normalize(data[\"data\"])\n",
    "df_population.columns = df_population.columns.str.strip()\n",
    "\n",
    "# Preview the data\n",
    "df_population.head()\n"
   ]
  },
  {
   "cell_type": "code",
   "execution_count": 10,
   "id": "5cb66cdb-a146-4943-bb70-0cdede27b5d3",
   "metadata": {},
   "outputs": [
    {
     "name": "stdout",
     "output_type": "stream",
     "text": [
      "📊 Mean U.S. Population (2013–2018): 317437383\n",
      "📉 Standard Deviation: 4257090\n"
     ]
    }
   ],
   "source": [
    "# 🔄 Convert 'Year' and 'Population' to numeric types\n",
    "df_population['Year'] = pd.to_numeric(df_population['Year'], errors='coerce')\n",
    "df_population['Population'] = pd.to_numeric(df_population['Population'], errors='coerce')\n",
    "\n",
    "# 📆 Filter for years 2013–2018\n",
    "df_pop_filtered = df_population[df_population['Year'].between(2013, 2018)]\n",
    "\n",
    "# 📊 Compute mean and standard deviation\n",
    "mean_pop = df_pop_filtered['Population'].mean()\n",
    "std_pop = df_pop_filtered['Population'].std()\n",
    "\n",
    "# 🖨️ Print results\n",
    "print(\"📊 Mean U.S. Population (2013–2018):\", round(mean_pop))\n",
    "print(\"📉 Standard Deviation:\", round(std_pop))\n"
   ]
  },
  {
   "cell_type": "code",
   "execution_count": 11,
   "id": "d0f8adb5-6f11-4e16-81bf-138efa564c2a",
   "metadata": {},
   "outputs": [
    {
     "data": {
      "text/html": [
       "<div>\n",
       "<style scoped>\n",
       "    .dataframe tbody tr th:only-of-type {\n",
       "        vertical-align: middle;\n",
       "    }\n",
       "\n",
       "    .dataframe tbody tr th {\n",
       "        vertical-align: top;\n",
       "    }\n",
       "\n",
       "    .dataframe thead th {\n",
       "        text-align: right;\n",
       "    }\n",
       "</style>\n",
       "<table border=\"1\" class=\"dataframe\">\n",
       "  <thead>\n",
       "    <tr style=\"text-align: right;\">\n",
       "      <th></th>\n",
       "      <th>series_id</th>\n",
       "      <th>year</th>\n",
       "      <th>value</th>\n",
       "    </tr>\n",
       "  </thead>\n",
       "  <tbody>\n",
       "    <tr>\n",
       "      <th>0</th>\n",
       "      <td>PRS30006011</td>\n",
       "      <td>2022</td>\n",
       "      <td>20.500</td>\n",
       "    </tr>\n",
       "    <tr>\n",
       "      <th>1</th>\n",
       "      <td>PRS30006012</td>\n",
       "      <td>2022</td>\n",
       "      <td>17.100</td>\n",
       "    </tr>\n",
       "    <tr>\n",
       "      <th>2</th>\n",
       "      <td>PRS30006013</td>\n",
       "      <td>1998</td>\n",
       "      <td>705.895</td>\n",
       "    </tr>\n",
       "    <tr>\n",
       "      <th>3</th>\n",
       "      <td>PRS30006021</td>\n",
       "      <td>2010</td>\n",
       "      <td>17.700</td>\n",
       "    </tr>\n",
       "    <tr>\n",
       "      <th>4</th>\n",
       "      <td>PRS30006022</td>\n",
       "      <td>2010</td>\n",
       "      <td>12.400</td>\n",
       "    </tr>\n",
       "  </tbody>\n",
       "</table>\n",
       "</div>"
      ],
      "text/plain": [
       "           series_id  year    value\n",
       "0  PRS30006011        2022   20.500\n",
       "1  PRS30006012        2022   17.100\n",
       "2  PRS30006013        1998  705.895\n",
       "3  PRS30006021        2010   17.700\n",
       "4  PRS30006022        2010   12.400"
      ]
     },
     "execution_count": 11,
     "metadata": {},
     "output_type": "execute_result"
    }
   ],
   "source": [
    "# 🧹 Clean the 'value' column\n",
    "df_timeseries['value'] = pd.to_numeric(df_timeseries['value'], errors='coerce')\n",
    "\n",
    "# Drop rows where 'value' is missing\n",
    "df_timeseries = df_timeseries.dropna(subset=['value'])\n",
    "\n",
    "# 📊 Group by series_id and year, summing up all quarterly values\n",
    "df_grouped = df_timeseries.groupby(['series_id', 'year'])['value'].sum().reset_index()\n",
    "\n",
    "# 🏆 For each series_id, get the year with the highest total value\n",
    "df_best_years = df_grouped.loc[df_grouped.groupby('series_id')['value'].idxmax()].reset_index(drop=True)\n",
    "\n",
    "# 🖨️ Show the result\n",
    "df_best_years.head()\n"
   ]
  },
  {
   "cell_type": "code",
   "execution_count": 12,
   "id": "71e9e542-7417-4b4a-ab96-447e8680dbb6",
   "metadata": {},
   "outputs": [
    {
     "data": {
      "text/html": [
       "<div>\n",
       "<style scoped>\n",
       "    .dataframe tbody tr th:only-of-type {\n",
       "        vertical-align: middle;\n",
       "    }\n",
       "\n",
       "    .dataframe tbody tr th {\n",
       "        vertical-align: top;\n",
       "    }\n",
       "\n",
       "    .dataframe thead th {\n",
       "        text-align: right;\n",
       "    }\n",
       "</style>\n",
       "<table border=\"1\" class=\"dataframe\">\n",
       "  <thead>\n",
       "    <tr style=\"text-align: right;\">\n",
       "      <th></th>\n",
       "      <th>series_id</th>\n",
       "      <th>year</th>\n",
       "      <th>period</th>\n",
       "      <th>value</th>\n",
       "      <th>Population</th>\n",
       "    </tr>\n",
       "  </thead>\n",
       "  <tbody>\n",
       "  </tbody>\n",
       "</table>\n",
       "</div>"
      ],
      "text/plain": [
       "Empty DataFrame\n",
       "Columns: [series_id, year, period, value, Population]\n",
       "Index: []"
      ]
     },
     "execution_count": 12,
     "metadata": {},
     "output_type": "execute_result"
    }
   ],
   "source": [
    "# 🔍 Step 1: Filter the time-series data for PRS30006032 and Q01\n",
    "df_filtered_value = df_timeseries[\n",
    "    (df_timeseries['series_id'] == 'PRS30006032') &\n",
    "    (df_timeseries['period'] == 'Q01')\n",
    "][['series_id', 'year', 'period', 'value']]\n",
    "\n",
    "# 🧼 Step 2: Ensure 'year' in both DataFrames is numeric\n",
    "df_filtered_value['year'] = pd.to_numeric(df_filtered_value['year'], errors='coerce')\n",
    "df_population['Year'] = pd.to_numeric(df_population['Year'], errors='coerce')\n",
    "df_population['Population'] = pd.to_numeric(df_population['Population'], errors='coerce')\n",
    "\n",
    "# 🔁 Step 3: Prepare population DataFrame and rename 'Year' to match\n",
    "df_pop_subset = df_population[['Year', 'Population']].rename(columns={'Year': 'year'})\n",
    "\n",
    "# 🔗 Step 4: Merge on 'year'\n",
    "df_joined = pd.merge(df_filtered_value, df_pop_subset, on='year', how='inner')\n",
    "\n",
    "# ✅ Final output\n",
    "df_joined.head()\n"
   ]
  },
  {
   "cell_type": "code",
   "execution_count": 13,
   "id": "39229786-843b-44f2-bf78-c59621b36eb5",
   "metadata": {},
   "outputs": [
    {
     "data": {
      "text/plain": [
       "array([], dtype=int64)"
      ]
     },
     "execution_count": 13,
     "metadata": {},
     "output_type": "execute_result"
    }
   ],
   "source": [
    "df_filtered_value['year'].unique()\n"
   ]
  },
  {
   "cell_type": "code",
   "execution_count": 14,
   "id": "046d7e5c-2b7f-4b46-9fbd-c9641a0280a0",
   "metadata": {},
   "outputs": [
    {
     "ename": "NameError",
     "evalue": "name 'array' is not defined",
     "output_type": "error",
     "traceback": [
      "\u001b[31m-------------------------------------------------------------------\u001b[39m",
      "\u001b[31mNameError\u001b[39m                         Traceback (most recent call last)",
      "\u001b[36mCell\u001b[39m\u001b[36m \u001b[39m\u001b[32mIn[14]\u001b[39m\u001b[32m, line 1\u001b[39m\n\u001b[32m----> \u001b[39m\u001b[32m1\u001b[39m \u001b[43marray\u001b[49m([\u001b[32m2018\u001b[39m])\n",
      "\u001b[31mNameError\u001b[39m: name 'array' is not defined"
     ]
    }
   ],
   "source": [
    "array([2018])\n",
    "\n"
   ]
  },
  {
   "cell_type": "code",
   "execution_count": 15,
   "id": "2347d8b7-00eb-45ba-b881-d3a1aec3b54b",
   "metadata": {},
   "outputs": [
    {
     "data": {
      "text/plain": [
       "array([2023, 2022, 2021, 2020, 2019, 2018, 2017, 2016, 2015, 2014, 2013])"
      ]
     },
     "execution_count": 15,
     "metadata": {},
     "output_type": "execute_result"
    }
   ],
   "source": [
    "df_pop_subset['year'].unique()\n"
   ]
  },
  {
   "cell_type": "code",
   "execution_count": 16,
   "id": "b309005c-3c36-450d-927d-642b215f27d6",
   "metadata": {},
   "outputs": [
    {
     "data": {
      "text/plain": [
       "array(['PRS30006011      ', 'PRS30006012      ', 'PRS30006013      ',\n",
       "       'PRS30006021      ', 'PRS30006022      ', 'PRS30006023      ',\n",
       "       'PRS30006031      ', 'PRS30006032      ', 'PRS30006033      ',\n",
       "       'PRS30006061      ', 'PRS30006062      ', 'PRS30006063      ',\n",
       "       'PRS30006081      ', 'PRS30006082      ', 'PRS30006083      ',\n",
       "       'PRS30006091      ', 'PRS30006092      ', 'PRS30006093      ',\n",
       "       'PRS30006101      ', 'PRS30006102      ', 'PRS30006103      ',\n",
       "       'PRS30006111      ', 'PRS30006112      ', 'PRS30006113      ',\n",
       "       'PRS30006131      ', 'PRS30006132      ', 'PRS30006133      ',\n",
       "       'PRS30006151      ', 'PRS30006152      ', 'PRS30006153      ',\n",
       "       'PRS30006161      ', 'PRS30006162      ', 'PRS30006163      ',\n",
       "       'PRS30006171      ', 'PRS30006172      ', 'PRS30006173      ',\n",
       "       'PRS30006211      ', 'PRS30006212      ', 'PRS30006213      ',\n",
       "       'PRS30006221      ', 'PRS30006222      ', 'PRS30006223      ',\n",
       "       'PRS30006231      ', 'PRS30006232      ', 'PRS30006233      ',\n",
       "       'PRS31006011      ', 'PRS31006012      ', 'PRS31006013      ',\n",
       "       'PRS31006021      ', 'PRS31006022      ', 'PRS31006023      ',\n",
       "       'PRS31006031      ', 'PRS31006032      ', 'PRS31006033      ',\n",
       "       'PRS31006061      ', 'PRS31006062      ', 'PRS31006063      ',\n",
       "       'PRS31006081      ', 'PRS31006082      ', 'PRS31006083      ',\n",
       "       'PRS31006091      ', 'PRS31006092      ', 'PRS31006093      ',\n",
       "       'PRS31006101      ', 'PRS31006102      ', 'PRS31006103      ',\n",
       "       'PRS31006111      ', 'PRS31006112      ', 'PRS31006113      ',\n",
       "       'PRS31006131      ', 'PRS31006132      ', 'PRS31006133      ',\n",
       "       'PRS31006151      ', 'PRS31006152      ', 'PRS31006153      ',\n",
       "       'PRS31006161      ', 'PRS31006162      ', 'PRS31006163      ',\n",
       "       'PRS31006171      ', 'PRS31006172      ', 'PRS31006173      ',\n",
       "       'PRS31006211      ', 'PRS31006212      ', 'PRS31006213      ',\n",
       "       'PRS31006221      ', 'PRS31006222      ', 'PRS31006223      ',\n",
       "       'PRS31006231      ', 'PRS31006232      ', 'PRS31006233      ',\n",
       "       'PRS32006011      ', 'PRS32006012      ', 'PRS32006013      ',\n",
       "       'PRS32006021      ', 'PRS32006022      ', 'PRS32006023      ',\n",
       "       'PRS32006031      ', 'PRS32006032      ', 'PRS32006033      ',\n",
       "       'PRS32006061      ', 'PRS32006062      ', 'PRS32006063      ',\n",
       "       'PRS32006081      ', 'PRS32006082      ', 'PRS32006083      ',\n",
       "       'PRS32006091      ', 'PRS32006092      ', 'PRS32006093      ',\n",
       "       'PRS32006101      ', 'PRS32006102      ', 'PRS32006103      ',\n",
       "       'PRS32006111      ', 'PRS32006112      ', 'PRS32006113      ',\n",
       "       'PRS32006131      ', 'PRS32006132      ', 'PRS32006133      ',\n",
       "       'PRS32006151      ', 'PRS32006152      ', 'PRS32006153      ',\n",
       "       'PRS32006161      ', 'PRS32006162      ', 'PRS32006163      ',\n",
       "       'PRS32006171      ', 'PRS32006172      ', 'PRS32006173      ',\n",
       "       'PRS32006211      ', 'PRS32006212      ', 'PRS32006213      ',\n",
       "       'PRS32006221      ', 'PRS32006222      ', 'PRS32006223      ',\n",
       "       'PRS32006231      ', 'PRS32006232      ', 'PRS32006233      ',\n",
       "       'PRS84006011      ', 'PRS84006012      ', 'PRS84006013      ',\n",
       "       'PRS84006021      ', 'PRS84006022      ', 'PRS84006023      ',\n",
       "       'PRS84006031      ', 'PRS84006032      ', 'PRS84006033      ',\n",
       "       'PRS84006041      ', 'PRS84006042      ', 'PRS84006043      ',\n",
       "       'PRS84006051      ', 'PRS84006052      ', 'PRS84006053      ',\n",
       "       'PRS84006061      ', 'PRS84006062      ', 'PRS84006063      ',\n",
       "       'PRS84006081      ', 'PRS84006082      ', 'PRS84006083      ',\n",
       "       'PRS84006091      ', 'PRS84006092      ', 'PRS84006093      ',\n",
       "       'PRS84006101      ', 'PRS84006102      ', 'PRS84006103      ',\n",
       "       'PRS84006111      ', 'PRS84006112      ', 'PRS84006113      ',\n",
       "       'PRS84006131      ', 'PRS84006132      ', 'PRS84006133      ',\n",
       "       'PRS84006141      ', 'PRS84006142      ', 'PRS84006143      ',\n",
       "       'PRS84006151      ', 'PRS84006152      ', 'PRS84006153      ',\n",
       "       'PRS84006161      ', 'PRS84006162      ', 'PRS84006163      ',\n",
       "       'PRS84006171      ', 'PRS84006172      ', 'PRS84006173      ',\n",
       "       'PRS85006011      ', 'PRS85006012      ', 'PRS85006013      ',\n",
       "       'PRS85006021      ', 'PRS85006022      ', 'PRS85006023      ',\n",
       "       'PRS85006031      ', 'PRS85006032      ', 'PRS85006033      ',\n",
       "       'PRS85006041      ', 'PRS85006042      ', 'PRS85006043      ',\n",
       "       'PRS85006051      ', 'PRS85006052      ', 'PRS85006053      ',\n",
       "       'PRS85006061      ', 'PRS85006062      ', 'PRS85006063      ',\n",
       "       'PRS85006081      ', 'PRS85006082      ', 'PRS85006083      ',\n",
       "       'PRS85006091      ', 'PRS85006092      ', 'PRS85006093      ',\n",
       "       'PRS85006101      ', 'PRS85006102      ', 'PRS85006103      ',\n",
       "       'PRS85006111      ', 'PRS85006112      ', 'PRS85006113      ',\n",
       "       'PRS85006131      ', 'PRS85006132      ', 'PRS85006133      ',\n",
       "       'PRS85006141      ', 'PRS85006142      ', 'PRS85006143      ',\n",
       "       'PRS85006151      ', 'PRS85006152      ', 'PRS85006153      ',\n",
       "       'PRS85006161      ', 'PRS85006162      ', 'PRS85006163      ',\n",
       "       'PRS85006171      ', 'PRS85006172      ', 'PRS85006173      ',\n",
       "       'PRS88003011      ', 'PRS88003012      ', 'PRS88003013      ',\n",
       "       'PRS88003021      ', 'PRS88003022      ', 'PRS88003023      ',\n",
       "       'PRS88003031      ', 'PRS88003032      ', 'PRS88003033      ',\n",
       "       'PRS88003041      ', 'PRS88003042      ', 'PRS88003043      ',\n",
       "       'PRS88003051      ', 'PRS88003052      ', 'PRS88003053      ',\n",
       "       'PRS88003061      ', 'PRS88003062      ', 'PRS88003063      ',\n",
       "       'PRS88003081      ', 'PRS88003082      ', 'PRS88003083      ',\n",
       "       'PRS88003091      ', 'PRS88003092      ', 'PRS88003093      ',\n",
       "       'PRS88003101      ', 'PRS88003102      ', 'PRS88003103      ',\n",
       "       'PRS88003111      ', 'PRS88003112      ', 'PRS88003113      ',\n",
       "       'PRS88003121      ', 'PRS88003122      ', 'PRS88003123      ',\n",
       "       'PRS88003131      ', 'PRS88003132      ', 'PRS88003133      ',\n",
       "       'PRS88003141      ', 'PRS88003142      ', 'PRS88003143      ',\n",
       "       'PRS88003151      ', 'PRS88003152      ', 'PRS88003153      ',\n",
       "       'PRS88003161      ', 'PRS88003162      ', 'PRS88003163      ',\n",
       "       'PRS88003171      ', 'PRS88003172      ', 'PRS88003173      ',\n",
       "       'PRS88003181      ', 'PRS88003182      ', 'PRS88003183      ',\n",
       "       'PRS88003191      ', 'PRS88003192      ', 'PRS88003193      ',\n",
       "       'PRS88003201      ', 'PRS88003202      ', 'PRS88003203      '],\n",
       "      dtype=object)"
      ]
     },
     "execution_count": 16,
     "metadata": {},
     "output_type": "execute_result"
    }
   ],
   "source": [
    "df_timeseries['series_id'].unique()\n"
   ]
  },
  {
   "cell_type": "code",
   "execution_count": 17,
   "id": "574dd8a2-0372-4dce-ab24-3dccbc4453fd",
   "metadata": {},
   "outputs": [
    {
     "data": {
      "text/plain": [
       "array([], dtype=object)"
      ]
     },
     "execution_count": 17,
     "metadata": {},
     "output_type": "execute_result"
    }
   ],
   "source": [
    "df_timeseries[df_timeseries['series_id'] == 'PRS30006032']['period'].unique()\n"
   ]
  },
  {
   "cell_type": "code",
   "execution_count": 18,
   "id": "0f5c1f1f-d488-4516-bc89-8dc42e15d853",
   "metadata": {},
   "outputs": [
    {
     "data": {
      "text/html": [
       "<div>\n",
       "<style scoped>\n",
       "    .dataframe tbody tr th:only-of-type {\n",
       "        vertical-align: middle;\n",
       "    }\n",
       "\n",
       "    .dataframe tbody tr th {\n",
       "        vertical-align: top;\n",
       "    }\n",
       "\n",
       "    .dataframe thead th {\n",
       "        text-align: right;\n",
       "    }\n",
       "</style>\n",
       "<table border=\"1\" class=\"dataframe\">\n",
       "  <thead>\n",
       "    <tr style=\"text-align: right;\">\n",
       "      <th></th>\n",
       "      <th>series_id</th>\n",
       "      <th>year</th>\n",
       "      <th>period</th>\n",
       "      <th>value</th>\n",
       "      <th>footnote_codes</th>\n",
       "    </tr>\n",
       "  </thead>\n",
       "  <tbody>\n",
       "  </tbody>\n",
       "</table>\n",
       "</div>"
      ],
      "text/plain": [
       "Empty DataFrame\n",
       "Columns: [series_id, year, period, value, footnote_codes]\n",
       "Index: []"
      ]
     },
     "execution_count": 18,
     "metadata": {},
     "output_type": "execute_result"
    }
   ],
   "source": [
    "df_timeseries[df_timeseries['series_id'] == 'PRS30006032']\n",
    "\n"
   ]
  },
  {
   "cell_type": "code",
   "execution_count": 20,
   "id": "83060b3b-1845-42af-8d50-5e2636b915ac",
   "metadata": {},
   "outputs": [],
   "source": [
    "df_filtered_value = df_timeseries[\n",
    "    (df_timeseries['series_id'] == 'PRS30006011') &\n",
    "    (df_timeseries['period'] == 'Q01')\n",
    "][['series_id', 'year', 'period', 'value']]\n"
   ]
  },
  {
   "cell_type": "code",
   "execution_count": 21,
   "id": "49163a79-cc2f-490a-b881-b29d390489e5",
   "metadata": {},
   "outputs": [
    {
     "data": {
      "text/html": [
       "<div>\n",
       "<style scoped>\n",
       "    .dataframe tbody tr th:only-of-type {\n",
       "        vertical-align: middle;\n",
       "    }\n",
       "\n",
       "    .dataframe tbody tr th {\n",
       "        vertical-align: top;\n",
       "    }\n",
       "\n",
       "    .dataframe thead th {\n",
       "        text-align: right;\n",
       "    }\n",
       "</style>\n",
       "<table border=\"1\" class=\"dataframe\">\n",
       "  <thead>\n",
       "    <tr style=\"text-align: right;\">\n",
       "      <th></th>\n",
       "      <th>series_id</th>\n",
       "      <th>year</th>\n",
       "      <th>period</th>\n",
       "      <th>value</th>\n",
       "      <th>Population</th>\n",
       "    </tr>\n",
       "  </thead>\n",
       "  <tbody>\n",
       "  </tbody>\n",
       "</table>\n",
       "</div>"
      ],
      "text/plain": [
       "Empty DataFrame\n",
       "Columns: [series_id, year, period, value, Population]\n",
       "Index: []"
      ]
     },
     "execution_count": 21,
     "metadata": {},
     "output_type": "execute_result"
    }
   ],
   "source": [
    "# Use a confirmed valid series_id and period\n",
    "df_filtered_value = df_timeseries[\n",
    "    (df_timeseries['series_id'] == 'PRS30006011') &\n",
    "    (df_timeseries['period'] == 'Q01')\n",
    "][['series_id', 'year', 'period', 'value']]\n",
    "\n",
    "# Make sure types match\n",
    "df_filtered_value['year'] = df_filtered_value['year'].astype(int)\n",
    "df_population['Year'] = pd.to_numeric(df_population['Year'], errors='coerce')\n",
    "df_population['Population'] = pd.to_numeric(df_population['Population'], errors='coerce')\n",
    "\n",
    "# Rename and join\n",
    "df_pop_subset = df_population[['Year', 'Population']].rename(columns={'Year': 'year'})\n",
    "df_joined = pd.merge(df_filtered_value, df_pop_subset, on='year', how='inner')\n",
    "\n",
    "# Show result\n",
    "df_joined.head()\n"
   ]
  },
  {
   "cell_type": "code",
   "execution_count": 22,
   "id": "33a0c719-75bf-47b8-af5e-42991d6b306e",
   "metadata": {},
   "outputs": [
    {
     "data": {
      "text/plain": [
       "array([], dtype=object)"
      ]
     },
     "execution_count": 22,
     "metadata": {},
     "output_type": "execute_result"
    }
   ],
   "source": [
    "df_timeseries[df_timeseries['series_id'] == 'PRS30006011']['period'].unique()\n"
   ]
  },
  {
   "cell_type": "code",
   "execution_count": 25,
   "id": "f06905e8-8cdb-471d-a2b4-cde8868a8819",
   "metadata": {},
   "outputs": [
    {
     "name": "stdout",
     "output_type": "stream",
     "text": [
      "✅ pr.data.0.Current downloaded successfully with headers\n"
     ]
    }
   ],
   "source": [
    "import requests\n",
    "\n",
    "# BLS blocks requests without a proper User-Agent\n",
    "headers = {\n",
    "    \"User-Agent\": \"YourName (nahomkenna14@outlook.com)\"\n",
    "}\n",
    "\n",
    "url_bls = \"https://download.bls.gov/pub/time.series/pr/pr.data.0.Current\"\n",
    "bls_response = requests.get(url_bls, headers=headers)\n",
    "\n",
    "with open(\"pr.data.0.Current\", \"wb\") as f:\n",
    "    f.write(bls_response.content)\n",
    "\n",
    "print(\"✅ pr.data.0.Current downloaded successfully with headers\")"
   ]
  },
  {
   "cell_type": "code",
   "execution_count": 26,
   "id": "ce0b78de-226f-46c2-ae18-c09015ac6412",
   "metadata": {},
   "outputs": [
    {
     "data": {
      "text/html": [
       "<div>\n",
       "<style scoped>\n",
       "    .dataframe tbody tr th:only-of-type {\n",
       "        vertical-align: middle;\n",
       "    }\n",
       "\n",
       "    .dataframe tbody tr th {\n",
       "        vertical-align: top;\n",
       "    }\n",
       "\n",
       "    .dataframe thead th {\n",
       "        text-align: right;\n",
       "    }\n",
       "</style>\n",
       "<table border=\"1\" class=\"dataframe\">\n",
       "  <thead>\n",
       "    <tr style=\"text-align: right;\">\n",
       "      <th></th>\n",
       "      <th>series_id</th>\n",
       "      <th>year</th>\n",
       "      <th>period</th>\n",
       "      <th>value</th>\n",
       "      <th>footnote_codes</th>\n",
       "    </tr>\n",
       "  </thead>\n",
       "  <tbody>\n",
       "    <tr>\n",
       "      <th>0</th>\n",
       "      <td>PRS30006011</td>\n",
       "      <td>1995</td>\n",
       "      <td>Q01</td>\n",
       "      <td>2.6</td>\n",
       "      <td>NaN</td>\n",
       "    </tr>\n",
       "    <tr>\n",
       "      <th>1</th>\n",
       "      <td>PRS30006011</td>\n",
       "      <td>1995</td>\n",
       "      <td>Q02</td>\n",
       "      <td>2.1</td>\n",
       "      <td>NaN</td>\n",
       "    </tr>\n",
       "    <tr>\n",
       "      <th>2</th>\n",
       "      <td>PRS30006011</td>\n",
       "      <td>1995</td>\n",
       "      <td>Q03</td>\n",
       "      <td>0.9</td>\n",
       "      <td>NaN</td>\n",
       "    </tr>\n",
       "    <tr>\n",
       "      <th>3</th>\n",
       "      <td>PRS30006011</td>\n",
       "      <td>1995</td>\n",
       "      <td>Q04</td>\n",
       "      <td>0.1</td>\n",
       "      <td>NaN</td>\n",
       "    </tr>\n",
       "    <tr>\n",
       "      <th>4</th>\n",
       "      <td>PRS30006011</td>\n",
       "      <td>1995</td>\n",
       "      <td>Q05</td>\n",
       "      <td>1.4</td>\n",
       "      <td>NaN</td>\n",
       "    </tr>\n",
       "  </tbody>\n",
       "</table>\n",
       "</div>"
      ],
      "text/plain": [
       "           series_id  year period  value footnote_codes\n",
       "0  PRS30006011        1995    Q01    2.6            NaN\n",
       "1  PRS30006011        1995    Q02    2.1            NaN\n",
       "2  PRS30006011        1995    Q03    0.9            NaN\n",
       "3  PRS30006011        1995    Q04    0.1            NaN\n",
       "4  PRS30006011        1995    Q05    1.4            NaN"
      ]
     },
     "execution_count": 26,
     "metadata": {},
     "output_type": "execute_result"
    }
   ],
   "source": [
    "import pandas as pd\n",
    "import json\n",
    "\n",
    "# Load time series from Part 1\n",
    "df_timeseries = pd.read_csv(\"pr.data.0.Current\", sep=\"\\t\")\n",
    "df_timeseries.columns = df_timeseries.columns.str.strip()\n",
    "df_timeseries.head()"
   ]
  },
  {
   "cell_type": "code",
   "execution_count": 27,
   "id": "2ed2903f-a3fa-478b-9c25-e495659437d6",
   "metadata": {},
   "outputs": [
    {
     "data": {
      "text/plain": [
       "array([], dtype=object)"
      ]
     },
     "execution_count": 27,
     "metadata": {},
     "output_type": "execute_result"
    }
   ],
   "source": [
    "df_timeseries[df_timeseries['series_id'] == 'PRS30006011']['period'].unique()\n"
   ]
  },
  {
   "cell_type": "code",
   "execution_count": 28,
   "id": "26810e57-8bc2-4f7c-8c0d-541a9fd6d2bc",
   "metadata": {},
   "outputs": [
    {
     "data": {
      "text/plain": [
       "array([], dtype=object)"
      ]
     },
     "execution_count": 28,
     "metadata": {},
     "output_type": "execute_result"
    }
   ],
   "source": [
    "df_timeseries.loc[df_timeseries['series_id'] == 'PRS30006011', 'period'].unique()\n"
   ]
  },
  {
   "cell_type": "code",
   "execution_count": 29,
   "id": "88f791aa-14a0-46e8-bc26-b8d19906c877",
   "metadata": {},
   "outputs": [
    {
     "name": "stderr",
     "output_type": "stream",
     "text": [
      "C:\\Users\\Owner\\AppData\\Local\\Temp\\ipykernel_6688\\561936647.py:2: FutureWarning: DataFrame.applymap has been deprecated. Use DataFrame.map instead.\n",
      "  df_timeseries = df_timeseries.applymap(lambda x: x.strip() if isinstance(x, str) else x)\n"
     ]
    }
   ],
   "source": [
    "# Strip leading/trailing whitespace from all string columns\n",
    "df_timeseries = df_timeseries.applymap(lambda x: x.strip() if isinstance(x, str) else x)\n"
   ]
  },
  {
   "cell_type": "code",
   "execution_count": 30,
   "id": "4cabbd4c-5201-4707-b07a-b53c644e5eed",
   "metadata": {},
   "outputs": [
    {
     "name": "stdout",
     "output_type": "stream",
     "text": [
      "✅ pr.data.0.Current downloaded successfully with headers\n"
     ]
    }
   ],
   "source": [
    "import requests\n",
    "\n",
    "# BLS blocks requests without a proper User-Agent\n",
    "headers = {\n",
    "    \"User-Agent\": \"YourName (nahomkenna14@outlook.com)\"\n",
    "}\n",
    "\n",
    "url_bls = \"https://download.bls.gov/pub/time.series/pr/pr.data.0.Current\"\n",
    "bls_response = requests.get(url_bls, headers=headers)\n",
    "\n",
    "with open(\"pr.data.0.Current\", \"wb\") as f:\n",
    "    f.write(bls_response.content)\n",
    "\n",
    "print(\"✅ pr.data.0.Current downloaded successfully with headers\")"
   ]
  },
  {
   "cell_type": "code",
   "execution_count": 31,
   "id": "1dbbae6f-8fe3-415f-a990-ede0fa2cb253",
   "metadata": {},
   "outputs": [
    {
     "data": {
      "text/html": [
       "<div>\n",
       "<style scoped>\n",
       "    .dataframe tbody tr th:only-of-type {\n",
       "        vertical-align: middle;\n",
       "    }\n",
       "\n",
       "    .dataframe tbody tr th {\n",
       "        vertical-align: top;\n",
       "    }\n",
       "\n",
       "    .dataframe thead th {\n",
       "        text-align: right;\n",
       "    }\n",
       "</style>\n",
       "<table border=\"1\" class=\"dataframe\">\n",
       "  <thead>\n",
       "    <tr style=\"text-align: right;\">\n",
       "      <th></th>\n",
       "      <th>series_id</th>\n",
       "      <th>year</th>\n",
       "      <th>period</th>\n",
       "      <th>value</th>\n",
       "      <th>footnote_codes</th>\n",
       "    </tr>\n",
       "  </thead>\n",
       "  <tbody>\n",
       "    <tr>\n",
       "      <th>0</th>\n",
       "      <td>PRS30006011</td>\n",
       "      <td>1995</td>\n",
       "      <td>Q01</td>\n",
       "      <td>2.6</td>\n",
       "      <td>NaN</td>\n",
       "    </tr>\n",
       "    <tr>\n",
       "      <th>1</th>\n",
       "      <td>PRS30006011</td>\n",
       "      <td>1995</td>\n",
       "      <td>Q02</td>\n",
       "      <td>2.1</td>\n",
       "      <td>NaN</td>\n",
       "    </tr>\n",
       "    <tr>\n",
       "      <th>2</th>\n",
       "      <td>PRS30006011</td>\n",
       "      <td>1995</td>\n",
       "      <td>Q03</td>\n",
       "      <td>0.9</td>\n",
       "      <td>NaN</td>\n",
       "    </tr>\n",
       "    <tr>\n",
       "      <th>3</th>\n",
       "      <td>PRS30006011</td>\n",
       "      <td>1995</td>\n",
       "      <td>Q04</td>\n",
       "      <td>0.1</td>\n",
       "      <td>NaN</td>\n",
       "    </tr>\n",
       "    <tr>\n",
       "      <th>4</th>\n",
       "      <td>PRS30006011</td>\n",
       "      <td>1995</td>\n",
       "      <td>Q05</td>\n",
       "      <td>1.4</td>\n",
       "      <td>NaN</td>\n",
       "    </tr>\n",
       "  </tbody>\n",
       "</table>\n",
       "</div>"
      ],
      "text/plain": [
       "           series_id  year period  value footnote_codes\n",
       "0  PRS30006011        1995    Q01    2.6            NaN\n",
       "1  PRS30006011        1995    Q02    2.1            NaN\n",
       "2  PRS30006011        1995    Q03    0.9            NaN\n",
       "3  PRS30006011        1995    Q04    0.1            NaN\n",
       "4  PRS30006011        1995    Q05    1.4            NaN"
      ]
     },
     "execution_count": 31,
     "metadata": {},
     "output_type": "execute_result"
    }
   ],
   "source": [
    "import pandas as pd\n",
    "import json\n",
    "\n",
    "# Load time series from Part 1\n",
    "df_timeseries = pd.read_csv(\"pr.data.0.Current\", sep=\"\\t\")\n",
    "df_timeseries.columns = df_timeseries.columns.str.strip()\n",
    "df_timeseries.head()"
   ]
  },
  {
   "cell_type": "code",
   "execution_count": 32,
   "id": "e1353650-1f29-42b4-821e-698ace5f1ef8",
   "metadata": {},
   "outputs": [
    {
     "name": "stderr",
     "output_type": "stream",
     "text": [
      "C:\\Users\\Owner\\AppData\\Local\\Temp\\ipykernel_6688\\561936647.py:2: FutureWarning: DataFrame.applymap has been deprecated. Use DataFrame.map instead.\n",
      "  df_timeseries = df_timeseries.applymap(lambda x: x.strip() if isinstance(x, str) else x)\n"
     ]
    }
   ],
   "source": [
    "# Strip leading/trailing whitespace from all string columns\n",
    "df_timeseries = df_timeseries.applymap(lambda x: x.strip() if isinstance(x, str) else x)\n"
   ]
  },
  {
   "cell_type": "code",
   "execution_count": 33,
   "id": "e8fbf728-92ea-4277-97e0-830bf4d89fa1",
   "metadata": {},
   "outputs": [],
   "source": [
    "# Strip leading/trailing whitespace from all string columns\n",
    "df_timeseries = df_timeseries.map(lambda x: x.strip() if isinstance(x, str) else x)\n"
   ]
  },
  {
   "cell_type": "code",
   "execution_count": 34,
   "id": "f66315ba-3f43-4764-beaf-2bd2f08f488b",
   "metadata": {},
   "outputs": [
    {
     "data": {
      "text/plain": [
       "array(['Q01', 'Q02', 'Q03', 'Q04', 'Q05'], dtype=object)"
      ]
     },
     "execution_count": 34,
     "metadata": {},
     "output_type": "execute_result"
    }
   ],
   "source": [
    "df_timeseries.loc[df_timeseries['series_id'] == 'PRS30006011', 'period'].unique()"
   ]
  },
  {
   "cell_type": "code",
   "execution_count": 35,
   "id": "bdbdf9dd-8018-4091-a1c1-19d1a7057c41",
   "metadata": {},
   "outputs": [
    {
     "data": {
      "text/plain": [
       "array(['Q01', 'Q02', 'Q03', 'Q04', 'Q05'], dtype=object)"
      ]
     },
     "execution_count": 35,
     "metadata": {},
     "output_type": "execute_result"
    }
   ],
   "source": [
    "df_timeseries.loc[df_timeseries['series_id'] == 'PRS30006032', 'period'].unique()"
   ]
  },
  {
   "cell_type": "code",
   "execution_count": 36,
   "id": "35796653-5446-4b34-9e21-b8a1d8ec8606",
   "metadata": {},
   "outputs": [
    {
     "data": {
      "text/html": [
       "<div>\n",
       "<style scoped>\n",
       "    .dataframe tbody tr th:only-of-type {\n",
       "        vertical-align: middle;\n",
       "    }\n",
       "\n",
       "    .dataframe tbody tr th {\n",
       "        vertical-align: top;\n",
       "    }\n",
       "\n",
       "    .dataframe thead th {\n",
       "        text-align: right;\n",
       "    }\n",
       "</style>\n",
       "<table border=\"1\" class=\"dataframe\">\n",
       "  <thead>\n",
       "    <tr style=\"text-align: right;\">\n",
       "      <th></th>\n",
       "      <th>series_id</th>\n",
       "      <th>year</th>\n",
       "      <th>period</th>\n",
       "      <th>value</th>\n",
       "      <th>Population</th>\n",
       "    </tr>\n",
       "  </thead>\n",
       "  <tbody>\n",
       "    <tr>\n",
       "      <th>0</th>\n",
       "      <td>PRS30006032</td>\n",
       "      <td>2013</td>\n",
       "      <td>Q01</td>\n",
       "      <td>0.5</td>\n",
       "      <td>311536594</td>\n",
       "    </tr>\n",
       "    <tr>\n",
       "      <th>1</th>\n",
       "      <td>PRS30006032</td>\n",
       "      <td>2014</td>\n",
       "      <td>Q01</td>\n",
       "      <td>-0.1</td>\n",
       "      <td>314107084</td>\n",
       "    </tr>\n",
       "    <tr>\n",
       "      <th>2</th>\n",
       "      <td>PRS30006032</td>\n",
       "      <td>2015</td>\n",
       "      <td>Q01</td>\n",
       "      <td>-1.7</td>\n",
       "      <td>316515021</td>\n",
       "    </tr>\n",
       "    <tr>\n",
       "      <th>3</th>\n",
       "      <td>PRS30006032</td>\n",
       "      <td>2016</td>\n",
       "      <td>Q01</td>\n",
       "      <td>-1.4</td>\n",
       "      <td>318558162</td>\n",
       "    </tr>\n",
       "    <tr>\n",
       "      <th>4</th>\n",
       "      <td>PRS30006032</td>\n",
       "      <td>2017</td>\n",
       "      <td>Q01</td>\n",
       "      <td>0.9</td>\n",
       "      <td>321004407</td>\n",
       "    </tr>\n",
       "  </tbody>\n",
       "</table>\n",
       "</div>"
      ],
      "text/plain": [
       "     series_id  year period  value  Population\n",
       "0  PRS30006032  2013    Q01    0.5   311536594\n",
       "1  PRS30006032  2014    Q01   -0.1   314107084\n",
       "2  PRS30006032  2015    Q01   -1.7   316515021\n",
       "3  PRS30006032  2016    Q01   -1.4   318558162\n",
       "4  PRS30006032  2017    Q01    0.9   321004407"
      ]
     },
     "execution_count": 36,
     "metadata": {},
     "output_type": "execute_result"
    }
   ],
   "source": [
    "# Step 1: Filter for the target series_id and period\n",
    "df_filtered_value = df_timeseries[\n",
    "    (df_timeseries['series_id'] == 'PRS30006032') &\n",
    "    (df_timeseries['period'] == 'Q01')\n",
    "][['series_id', 'year', 'period', 'value']]\n",
    "\n",
    "# Step 2: Clean types\n",
    "df_filtered_value['year'] = pd.to_numeric(df_filtered_value['year'], errors='coerce')\n",
    "df_population['Year'] = pd.to_numeric(df_population['Year'], errors='coerce')\n",
    "df_population['Population'] = pd.to_numeric(df_population['Population'], errors='coerce')\n",
    "\n",
    "# Step 3: Join with population data\n",
    "df_pop_subset = df_population[['Year', 'Population']].rename(columns={'Year': 'year'})\n",
    "df_joined = pd.merge(df_filtered_value, df_pop_subset, on='year', how='inner')\n",
    "\n",
    "# ✅ Final Output\n",
    "df_joined.head()\n"
   ]
  },
  {
   "cell_type": "code",
   "execution_count": null,
   "id": "e4f52d44-8663-4e28-b88e-130c9cab5443",
   "metadata": {},
   "outputs": [],
   "source": []
  }
 ],
 "metadata": {
  "kernelspec": {
   "display_name": "Python 3 (ipykernel)",
   "language": "python",
   "name": "python3"
  },
  "language_info": {
   "codemirror_mode": {
    "name": "ipython",
    "version": 3
   },
   "file_extension": ".py",
   "mimetype": "text/x-python",
   "name": "python",
   "nbconvert_exporter": "python",
   "pygments_lexer": "ipython3",
   "version": "3.13.3"
  }
 },
 "nbformat": 4,
 "nbformat_minor": 5
}
